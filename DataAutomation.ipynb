{
 "cells": [
  {
   "cell_type": "code",
   "execution_count": 33,
   "metadata": {},
   "outputs": [],
   "source": [
    "from selenium import webdriver\n",
    "from selenium.webdriver.support.ui import WebDriverWait\n",
    "from selenium.webdriver.support import expected_conditions as EC\n",
    "from selenium.webdriver.common.by import By\n",
    "from selenium.common.exceptions import NoSuchElementException\n",
    "import time\n",
    "from datetime import datetime\n",
    "import os\n",
    "import xlrd\n",
    "import pandas as pd\n",
    "import re"
   ]
  },
  {
   "cell_type": "code",
   "execution_count": 84,
   "metadata": {},
   "outputs": [],
   "source": [
    "#import sys\n",
    "#!{sys.executable} -m pip install selenium"
   ]
  },
  {
   "cell_type": "markdown",
   "metadata": {},
   "source": [
    "# Code to generate State level data...\n",
    "1. Column: \"State\",\"Confirmed\",\"Active\",\"Recovery\",\"Deceased\"\n",
    "2. Source: https://www.covid19india.org/"
   ]
  },
  {
   "cell_type": "code",
   "execution_count": 85,
   "metadata": {},
   "outputs": [
    {
     "name": "stdout",
     "output_type": "stream",
     "text": [
      "Success\n",
      "covid19_20200422174042.csv is generated in path C:\\Users\\mangl\\Desktop\\python_projects\\project_2\n"
     ]
    }
   ],
   "source": [
    "driver = webdriver.Chrome(\"C:/Users/mangl/Desktop/python_projects/project_2/chromedriver.exe\")\n",
    "driver.get('https://www.covid19india.org/')\n",
    "time.sleep(3)\n",
    "\n",
    "states = driver.find_elements_by_xpath('//tbody[1]//span[@class=\"actual__title-wrapper\"]')\n",
    "##confirmed = driver.find_elements_by_xpath('//tr[@class=\"state\"]/td[2]')\n",
    "confirmed = driver.find_elements_by_xpath('//tr[@class =\"state  \" or @class =\"state  is-odd\" ]/td[2]/span[@class = \"table__count-text\"]')\n",
    "span = driver.find_elements_by_xpath('//tr[@class =\"state  \" or @class =\"state  is-odd\" ]/td[2]/span')\n",
    "actives = driver.find_elements_by_xpath('//tr[@class =\"state  \" or @class =\"state  is-odd\" ]/td[3]')\n",
    "##recoveries = driver.find_elements_by_xpath('//tr[@class=\"state\"]/td[4]')\n",
    "recoveries = driver.find_elements_by_xpath('//tr[@class =\"state  \" or @class =\"state  is-odd\" ]/td[4]/span[@class = \"table__count-text\"]')\n",
    "##deaths = driver.find_elements_by_xpath('//tr[@class=\"state\"]/td[5]')\n",
    "deaths = driver.find_elements_by_xpath('//tr[@class =\"state  \" or @class =\"state  is-odd\" ]/td[5]/span[@class = \"table__count-text\"]')\n",
    "column = [\"State\",\"Confirmed\",\"Active\",\"Recovery\",\"Deceased\"]\n",
    "\n",
    "res = pd.DataFrame(columns=column)\n",
    "\n",
    "for state,confirm,span,active,recovered,death in zip(states,confirmed,span,actives,recoveries,deaths):\n",
    "    #print(state.text, confirm.text.replace(span.text,''),active.text,recovered.text,death.text)\n",
    "    State,Confirmed,Active,Recovery,Deceased = state.text, confirm.text.replace(span.text,''),active.text,recovered.text,death.text\n",
    "    data = {\"State\":[State],\"Confirmed\":[Confirmed],\"Active\":[Active],\"Recovery\":[Recovery],\"Deceased\":[Deceased]}\n",
    "    temp = pd.DataFrame(data=data)\n",
    "    #print(temp)\n",
    "    res = res.append(temp, ignore_index=True)\n",
    "    \n",
    "print(\"Success\")\n",
    "driver.close()\n",
    "time_str = datetime.now().strftime('%Y%m%d%H%M%S')\n",
    "name = \"covid19_\"+time_str+'.csv'\n",
    "res.to_csv(name,index=False)\n",
    "print(\"{} is generated in path {}\".format(name,os.getcwd()))"
   ]
  },
  {
   "cell_type": "markdown",
   "metadata": {},
   "source": [
    "# Code to generate District level data...\n",
    "1. Columns: \"STATE\",\"DISTRICT\",\"CONFIRMED\"\n",
    "2. Source: https://www.covid19india.org/"
   ]
  },
  {
   "cell_type": "code",
   "execution_count": 86,
   "metadata": {},
   "outputs": [
    {
     "name": "stdout",
     "output_type": "stream",
     "text": [
      "Success\n",
      "covid19_districtwise20200422174142.csv is generated in path C:\\Users\\mangl\\Desktop\\python_projects\\project_2\n"
     ]
    }
   ],
   "source": [
    "driver = webdriver.Chrome(\"C:/Users/mangl/Desktop/python_projects/project_2/chromedriver.exe\")\n",
    "driver.get('https://www.covid19india.org/')\n",
    "time.sleep(3)\n",
    "xpath = '//tbody[1]/tr'\n",
    "loc = driver.find_elements_by_xpath(xpath)\n",
    "state_regex = r\">{1}([A-Za-z\\s\\*\\.\\d]+)<\"\n",
    "count_regex = r\"\\\"table__count-text\\\">([\\d\\-\\,]+)</span>\"\n",
    "dataset_dist = pd.DataFrame(columns=[\"STATE\",\"DISTRICT\",\"CONFIRMED\"])\n",
    "\n",
    "for ele in loc: \n",
    "    cls = (ele.get_attribute(\"class\"))\n",
    "    if cls.strip() in (\"state\",\"state  is-odd\"):\n",
    "        state = ele.text.split('\\n')[0]\n",
    "    elif cls.strip() in (\"district\",\"district is-odd\") :\n",
    "        test_str = ele.get_attribute(\"innerHTML\")\n",
    "        district = re.findall(state_regex, test_str, re.MULTILINE)[0]\n",
    "        count = re.findall(count_regex, test_str, re.MULTILINE)[0]\n",
    "        #print(state,district,count,sep=\" : \")\n",
    "        record = {\"STATE\":state, \"DISTRICT\":district, \"CONFIRMED\":count}\n",
    "        dataset_dist = dataset_dist.append(record, ignore_index=True)\n",
    "print(\"Success\")\n",
    "driver.close()\n",
    "\n",
    "time_str = datetime.now().strftime('%Y%m%d%H%M%S')\n",
    "name = \"covid19_districtwise\"+time_str+'.csv'\n",
    "dataset_dist.to_csv(name,index=False)\n",
    "print(\"{} is generated in path {}\".format(name,os.getcwd()))"
   ]
  },
  {
   "cell_type": "markdown",
   "metadata": {},
   "source": [
    "# Get the coordinates of districts from Google:\n",
    "1. Columns: \"STATE\",\"DISTRICT\",\"COORDINATES\"\n",
    "2. Source:https://www.google.com/"
   ]
  },
  {
   "cell_type": "code",
   "execution_count": 55,
   "metadata": {},
   "outputs": [
    {
     "name": "stdout",
     "output_type": "stream",
     "text": [
      "No element found\n",
      "No element found\n",
      "No element found\n",
      "No element found\n",
      "No element found\n",
      "No element found\n",
      "No element found\n",
      "No element found\n",
      "No element found\n",
      "No element found\n",
      "No element found\n",
      "No element found\n",
      "No element found\n",
      "No element found\n",
      "No element found\n",
      "No element found\n",
      "No element found\n",
      "district_coordinates20200422170946.csv is generated in path C:\\Users\\mangl\\Desktop\\python_projects\\project_2\n"
     ]
    }
   ],
   "source": [
    "driver = webdriver.Chrome(\"C:/Users/mangl/Desktop/python_projects/project_2/chromedriver.exe\")\n",
    "driver.implicitly_wait(10) \n",
    "driver.get('https://www.google.com/')\n",
    "xpath_search = '//input[@class = \"gLFyf gsfi\"]'\n",
    "#search = driver.find_element_by_xpath(xpath_search)\n",
    "xpath_click = '//div[@class=\"FPdoLc tfB0Bf\"]//input[@class=\"gNO89b\"]'\n",
    "#click = driver.find_element_by_xpath(xpath_click)\n",
    "xpath_coordinates = '//div[@class = \"Z0LcW\"]'\n",
    "dataset_coordinates = pd.DataFrame(columns=[\"STATE\",\"DISTRICT\",\"COORDINATES\"])\n",
    "\n",
    "for place in dataset_dist.itertuples():\n",
    "    #print(place.STATE,',', place.DISTRICT, 'Coordinates')\n",
    "    try : \n",
    "    #print(place.STATE,',', place.DISTRICT, 'Coordinates')\n",
    "        search = driver.find_elements_by_xpath(xpath_search)\n",
    "        search = search[0]\n",
    "        search.clear()\n",
    "        search.send_keys(place.STATE,',', place.DISTRICT, ' Coordinates')\n",
    "        click = driver.find_element_by_xpath(xpath_click)\n",
    "        click.click()\n",
    "        coordinates = driver.find_element_by_xpath(xpath_coordinates).text\n",
    "        #print(place.STATE,',', place.DISTRICT, 'Coordinates: ',coordinates)\n",
    "        record = {\"STATE\":place.STATE, \"DISTRICT\":place.DISTRICT, \"COORDINATES\":coordinates}\n",
    "        dataset_coordinates = dataset_coordinates.append(record, ignore_index=True)\n",
    "        driver.back()\n",
    "    except NoSuchElementException:\n",
    "        record = {\"STATE\":place.STATE, \"DISTRICT\":place.DISTRICT, \"COORDINATES\":''}\n",
    "        dataset_coordinates = dataset_coordinates.append(record, ignore_index=True)\n",
    "        driver.back()\n",
    "        #print(\"No element found\")\n",
    "\n",
    "driver.close()\n",
    "time_str = datetime.now().strftime('%Y%m%d%H%M%S')\n",
    "name = \"district_coordinates\"+time_str+'.csv'\n",
    "dataset_coordinates.to_csv(name,index=False)\n",
    "print(\"{} is generated in path {}\".format(name,os.getcwd()))"
   ]
  },
  {
   "cell_type": "markdown",
   "metadata": {},
   "source": [
    "# Generates incremental records for District coordinates:\n",
    "1. Columns: \"STATE\",\"DISTRICT\",\"COORDINATES\"\n",
    "2. Source: https://www.google.com/"
   ]
  },
  {
   "cell_type": "code",
   "execution_count": 89,
   "metadata": {},
   "outputs": [
    {
     "name": "stdout",
     "output_type": "stream",
     "text": [
      "district_coordinates20200422174953.csv is generated in path C:\\Users\\mangl\\Desktop\\python_projects\\project_2\n"
     ]
    }
   ],
   "source": [
    "driver = webdriver.Chrome(\"C:/Users/mangl/Desktop/python_projects/project_2/chromedriver.exe\")\n",
    "driver.implicitly_wait(10) \n",
    "driver.get('https://www.google.com/')\n",
    "xpath_search = '//input[@class = \"gLFyf gsfi\"]'\n",
    "#search = driver.find_element_by_xpath(xpath_search)\n",
    "xpath_click = '//div[@class=\"FPdoLc tfB0Bf\"]//input[@class=\"gNO89b\"]'\n",
    "#click = driver.find_element_by_xpath(xpath_click)\n",
    "xpath_coordinates = '//div[@class = \"Z0LcW\"]'\n",
    "dataset_coordinates = pd.DataFrame(columns=[\"STATE\",\"DISTRICT\",\"COORDINATES\"])\n",
    "dataset_coordinates_existing = pd.read_csv(r\"C:\\Users\\mangl\\Desktop\\python_projects\\project_2\\district_coordinates.csv\")\n",
    "\n",
    "for place in dataset_dist.itertuples():\n",
    "    #print(place.STATE,',', place.DISTRICT, 'Coordinates')\n",
    "    if (place.STATE not in dataset_coordinates_existing[\"STATE\"].unique().tolist()) or (place.STATE in dataset_coordinates_existing[\"STATE\"].unique().tolist() and place.DISTRICT not in dataset_coordinates_existing[dataset_coordinates_existing[\"STATE\"] == place.STATE][\"DISTRICT\"].tolist()):\n",
    "        try : \n",
    "        #print(place.STATE,',', place.DISTRICT, 'Coordinates')\n",
    "            search = driver.find_elements_by_xpath(xpath_search)\n",
    "            search = search[0]\n",
    "            search.clear()\n",
    "            search.send_keys(place.STATE,',', place.DISTRICT, ' Coordinates')\n",
    "            click = driver.find_element_by_xpath(xpath_click)\n",
    "            click.click()\n",
    "            coordinates = driver.find_element_by_xpath(xpath_coordinates).text\n",
    "            #print(place.STATE,',', place.DISTRICT, 'Coordinates: ',coordinates)\n",
    "            record = {\"STATE\":place.STATE, \"DISTRICT\":place.DISTRICT, \"COORDINATES\":coordinates}\n",
    "            dataset_coordinates = dataset_coordinates.append(record, ignore_index=True)\n",
    "            driver.back()\n",
    "        except NoSuchElementException:\n",
    "            record = {\"STATE\":place.STATE, \"DISTRICT\":place.DISTRICT, \"COORDINATES\":''}\n",
    "            dataset_coordinates = dataset_coordinates.append(record, ignore_index=True)\n",
    "            driver.back()\n",
    "            print(\"No element found\")\n",
    "\n",
    "driver.close()\n",
    "time_str = datetime.now().strftime('%Y%m%d%H%M%S')\n",
    "name = \"district_coordinates\"+time_str+'.csv'\n",
    "dataset_coordinates.to_csv(name,index=False)\n",
    "print(\"{} is generated in path {}\".format(name,os.getcwd()))"
   ]
  },
  {
   "cell_type": "code",
   "execution_count": null,
   "metadata": {},
   "outputs": [],
   "source": []
  },
  {
   "cell_type": "code",
   "execution_count": null,
   "metadata": {},
   "outputs": [],
   "source": []
  },
  {
   "cell_type": "code",
   "execution_count": null,
   "metadata": {},
   "outputs": [],
   "source": []
  },
  {
   "cell_type": "code",
   "execution_count": null,
   "metadata": {},
   "outputs": [],
   "source": []
  }
 ],
 "metadata": {
  "kernelspec": {
   "display_name": "Python 3",
   "language": "python",
   "name": "python3"
  },
  "language_info": {
   "codemirror_mode": {
    "name": "ipython",
    "version": 3
   },
   "file_extension": ".py",
   "mimetype": "text/x-python",
   "name": "python",
   "nbconvert_exporter": "python",
   "pygments_lexer": "ipython3",
   "version": "3.7.6"
  }
 },
 "nbformat": 4,
 "nbformat_minor": 4
}
